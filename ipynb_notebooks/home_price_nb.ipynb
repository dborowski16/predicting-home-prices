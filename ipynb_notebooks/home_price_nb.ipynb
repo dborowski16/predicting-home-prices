{
 "cells": [
  {
   "cell_type": "code",
   "execution_count": 2,
   "metadata": {},
   "outputs": [],
   "source": [
    "import pandas as pd\n",
    "import seaborn as sns\n",
    "import numpy as np\n",
    "import matplotlib.pyplot as plt\n",
    "from sklearn.cluster import KMeans\n",
    "%matplotlib inline"
   ]
  },
  {
   "cell_type": "markdown",
   "metadata": {},
   "source": [
    "### Read in csv of home sales data from Zillow"
   ]
  },
  {
   "cell_type": "code",
   "execution_count": 3,
   "metadata": {},
   "outputs": [],
   "source": [
    "df = pd.read_csv('..\\data\\single_family_home_values.csv')"
   ]
  },
  {
   "cell_type": "code",
   "execution_count": 4,
   "metadata": {},
   "outputs": [
    {
     "data": {
      "text/html": [
       "<div>\n",
       "<style scoped>\n",
       "    .dataframe tbody tr th:only-of-type {\n",
       "        vertical-align: middle;\n",
       "    }\n",
       "\n",
       "    .dataframe tbody tr th {\n",
       "        vertical-align: top;\n",
       "    }\n",
       "\n",
       "    .dataframe thead th {\n",
       "        text-align: right;\n",
       "    }\n",
       "</style>\n",
       "<table border=\"1\" class=\"dataframe\">\n",
       "  <thead>\n",
       "    <tr style=\"text-align: right;\">\n",
       "      <th></th>\n",
       "      <th>id</th>\n",
       "      <th>address</th>\n",
       "      <th>city</th>\n",
       "      <th>state</th>\n",
       "      <th>zipcode</th>\n",
       "      <th>latitude</th>\n",
       "      <th>longitude</th>\n",
       "      <th>bedrooms</th>\n",
       "      <th>bathrooms</th>\n",
       "      <th>rooms</th>\n",
       "      <th>squareFootage</th>\n",
       "      <th>lotSize</th>\n",
       "      <th>yearBuilt</th>\n",
       "      <th>lastSaleDate</th>\n",
       "      <th>lastSaleAmount</th>\n",
       "      <th>priorSaleDate</th>\n",
       "      <th>priorSaleAmount</th>\n",
       "      <th>estimated_value</th>\n",
       "    </tr>\n",
       "  </thead>\n",
       "  <tbody>\n",
       "    <tr>\n",
       "      <th>0</th>\n",
       "      <td>39525749</td>\n",
       "      <td>8171 E 84th Ave</td>\n",
       "      <td>Denver</td>\n",
       "      <td>CO</td>\n",
       "      <td>80022</td>\n",
       "      <td>39.849160</td>\n",
       "      <td>-104.893468</td>\n",
       "      <td>3</td>\n",
       "      <td>2.0</td>\n",
       "      <td>6</td>\n",
       "      <td>1378</td>\n",
       "      <td>9968</td>\n",
       "      <td>2003.0</td>\n",
       "      <td>2009-12-17</td>\n",
       "      <td>75000</td>\n",
       "      <td>2004-05-13</td>\n",
       "      <td>165700.0</td>\n",
       "      <td>239753</td>\n",
       "    </tr>\n",
       "    <tr>\n",
       "      <th>1</th>\n",
       "      <td>184578398</td>\n",
       "      <td>10556 Wheeling St</td>\n",
       "      <td>Denver</td>\n",
       "      <td>CO</td>\n",
       "      <td>80022</td>\n",
       "      <td>39.888020</td>\n",
       "      <td>-104.830930</td>\n",
       "      <td>2</td>\n",
       "      <td>2.0</td>\n",
       "      <td>6</td>\n",
       "      <td>1653</td>\n",
       "      <td>6970</td>\n",
       "      <td>2004.0</td>\n",
       "      <td>2004-09-23</td>\n",
       "      <td>216935</td>\n",
       "      <td>NaN</td>\n",
       "      <td>NaN</td>\n",
       "      <td>343963</td>\n",
       "    </tr>\n",
       "    <tr>\n",
       "      <th>2</th>\n",
       "      <td>184430015</td>\n",
       "      <td>3190 Wadsworth Blvd</td>\n",
       "      <td>Denver</td>\n",
       "      <td>CO</td>\n",
       "      <td>80033</td>\n",
       "      <td>39.761710</td>\n",
       "      <td>-105.081070</td>\n",
       "      <td>3</td>\n",
       "      <td>1.0</td>\n",
       "      <td>0</td>\n",
       "      <td>1882</td>\n",
       "      <td>23875</td>\n",
       "      <td>1917.0</td>\n",
       "      <td>2008-04-03</td>\n",
       "      <td>330000</td>\n",
       "      <td>NaN</td>\n",
       "      <td>NaN</td>\n",
       "      <td>488840</td>\n",
       "    </tr>\n",
       "    <tr>\n",
       "      <th>3</th>\n",
       "      <td>155129946</td>\n",
       "      <td>3040 Wadsworth Blvd</td>\n",
       "      <td>Denver</td>\n",
       "      <td>CO</td>\n",
       "      <td>80033</td>\n",
       "      <td>39.760780</td>\n",
       "      <td>-105.081060</td>\n",
       "      <td>4</td>\n",
       "      <td>3.0</td>\n",
       "      <td>0</td>\n",
       "      <td>2400</td>\n",
       "      <td>11500</td>\n",
       "      <td>1956.0</td>\n",
       "      <td>2008-12-02</td>\n",
       "      <td>185000</td>\n",
       "      <td>2008-06-27</td>\n",
       "      <td>0.0</td>\n",
       "      <td>494073</td>\n",
       "    </tr>\n",
       "    <tr>\n",
       "      <th>4</th>\n",
       "      <td>245107</td>\n",
       "      <td>5615 S Eaton St</td>\n",
       "      <td>Denver</td>\n",
       "      <td>CO</td>\n",
       "      <td>80123</td>\n",
       "      <td>39.616181</td>\n",
       "      <td>-105.058812</td>\n",
       "      <td>3</td>\n",
       "      <td>4.0</td>\n",
       "      <td>8</td>\n",
       "      <td>2305</td>\n",
       "      <td>5600</td>\n",
       "      <td>1998.0</td>\n",
       "      <td>2012-07-18</td>\n",
       "      <td>308000</td>\n",
       "      <td>2011-12-29</td>\n",
       "      <td>0.0</td>\n",
       "      <td>513676</td>\n",
       "    </tr>\n",
       "    <tr>\n",
       "      <th>5</th>\n",
       "      <td>3523925</td>\n",
       "      <td>6535 W Sumac Ave</td>\n",
       "      <td>Denver</td>\n",
       "      <td>CO</td>\n",
       "      <td>80123</td>\n",
       "      <td>39.615136</td>\n",
       "      <td>-105.069018</td>\n",
       "      <td>3</td>\n",
       "      <td>5.0</td>\n",
       "      <td>7</td>\n",
       "      <td>2051</td>\n",
       "      <td>6045</td>\n",
       "      <td>1996.0</td>\n",
       "      <td>2006-09-12</td>\n",
       "      <td>363500</td>\n",
       "      <td>2005-05-16</td>\n",
       "      <td>339000.0</td>\n",
       "      <td>496062</td>\n",
       "    </tr>\n",
       "    <tr>\n",
       "      <th>6</th>\n",
       "      <td>30560679</td>\n",
       "      <td>6673 W Berry Ave</td>\n",
       "      <td>Denver</td>\n",
       "      <td>CO</td>\n",
       "      <td>80123</td>\n",
       "      <td>39.616350</td>\n",
       "      <td>-105.070760</td>\n",
       "      <td>4</td>\n",
       "      <td>4.0</td>\n",
       "      <td>8</td>\n",
       "      <td>2051</td>\n",
       "      <td>6315</td>\n",
       "      <td>1997.0</td>\n",
       "      <td>2014-12-15</td>\n",
       "      <td>420000</td>\n",
       "      <td>2006-07-07</td>\n",
       "      <td>345000.0</td>\n",
       "      <td>514953</td>\n",
       "    </tr>\n",
       "    <tr>\n",
       "      <th>7</th>\n",
       "      <td>39623928</td>\n",
       "      <td>5640 S Otis St</td>\n",
       "      <td>Denver</td>\n",
       "      <td>CO</td>\n",
       "      <td>80123</td>\n",
       "      <td>39.615213</td>\n",
       "      <td>-105.070617</td>\n",
       "      <td>3</td>\n",
       "      <td>3.0</td>\n",
       "      <td>7</td>\n",
       "      <td>2051</td>\n",
       "      <td>8133</td>\n",
       "      <td>1997.0</td>\n",
       "      <td>2004-03-15</td>\n",
       "      <td>328700</td>\n",
       "      <td>1998-04-09</td>\n",
       "      <td>225200.0</td>\n",
       "      <td>494321</td>\n",
       "    </tr>\n",
       "    <tr>\n",
       "      <th>8</th>\n",
       "      <td>148975825</td>\n",
       "      <td>5342 S Gray St</td>\n",
       "      <td>Denver</td>\n",
       "      <td>CO</td>\n",
       "      <td>80123</td>\n",
       "      <td>39.620158</td>\n",
       "      <td>-105.063094</td>\n",
       "      <td>3</td>\n",
       "      <td>3.0</td>\n",
       "      <td>7</td>\n",
       "      <td>1796</td>\n",
       "      <td>5038</td>\n",
       "      <td>1999.0</td>\n",
       "      <td>2011-08-16</td>\n",
       "      <td>274900</td>\n",
       "      <td>2011-01-10</td>\n",
       "      <td>0.0</td>\n",
       "      <td>496079</td>\n",
       "    </tr>\n",
       "    <tr>\n",
       "      <th>9</th>\n",
       "      <td>184623176</td>\n",
       "      <td>4967 S Wadsworth Blvd</td>\n",
       "      <td>Denver</td>\n",
       "      <td>CO</td>\n",
       "      <td>80123</td>\n",
       "      <td>39.626770</td>\n",
       "      <td>-105.081990</td>\n",
       "      <td>3</td>\n",
       "      <td>3.0</td>\n",
       "      <td>0</td>\n",
       "      <td>2054</td>\n",
       "      <td>4050</td>\n",
       "      <td>2007.0</td>\n",
       "      <td>2015-12-01</td>\n",
       "      <td>407000</td>\n",
       "      <td>2012-10-30</td>\n",
       "      <td>312000.0</td>\n",
       "      <td>424514</td>\n",
       "    </tr>\n",
       "  </tbody>\n",
       "</table>\n",
       "</div>"
      ],
      "text/plain": [
       "          id                address    city state  zipcode   latitude  \\\n",
       "0   39525749        8171 E 84th Ave  Denver    CO    80022  39.849160   \n",
       "1  184578398      10556 Wheeling St  Denver    CO    80022  39.888020   \n",
       "2  184430015    3190 Wadsworth Blvd  Denver    CO    80033  39.761710   \n",
       "3  155129946    3040 Wadsworth Blvd  Denver    CO    80033  39.760780   \n",
       "4     245107        5615 S Eaton St  Denver    CO    80123  39.616181   \n",
       "5    3523925       6535 W Sumac Ave  Denver    CO    80123  39.615136   \n",
       "6   30560679       6673 W Berry Ave  Denver    CO    80123  39.616350   \n",
       "7   39623928         5640 S Otis St  Denver    CO    80123  39.615213   \n",
       "8  148975825         5342 S Gray St  Denver    CO    80123  39.620158   \n",
       "9  184623176  4967 S Wadsworth Blvd  Denver    CO    80123  39.626770   \n",
       "\n",
       "    longitude  bedrooms  bathrooms  rooms  squareFootage  lotSize  yearBuilt  \\\n",
       "0 -104.893468         3        2.0      6           1378     9968     2003.0   \n",
       "1 -104.830930         2        2.0      6           1653     6970     2004.0   \n",
       "2 -105.081070         3        1.0      0           1882    23875     1917.0   \n",
       "3 -105.081060         4        3.0      0           2400    11500     1956.0   \n",
       "4 -105.058812         3        4.0      8           2305     5600     1998.0   \n",
       "5 -105.069018         3        5.0      7           2051     6045     1996.0   \n",
       "6 -105.070760         4        4.0      8           2051     6315     1997.0   \n",
       "7 -105.070617         3        3.0      7           2051     8133     1997.0   \n",
       "8 -105.063094         3        3.0      7           1796     5038     1999.0   \n",
       "9 -105.081990         3        3.0      0           2054     4050     2007.0   \n",
       "\n",
       "  lastSaleDate  lastSaleAmount priorSaleDate  priorSaleAmount  estimated_value  \n",
       "0   2009-12-17           75000    2004-05-13         165700.0           239753  \n",
       "1   2004-09-23          216935           NaN              NaN           343963  \n",
       "2   2008-04-03          330000           NaN              NaN           488840  \n",
       "3   2008-12-02          185000    2008-06-27              0.0           494073  \n",
       "4   2012-07-18          308000    2011-12-29              0.0           513676  \n",
       "5   2006-09-12          363500    2005-05-16         339000.0           496062  \n",
       "6   2014-12-15          420000    2006-07-07         345000.0           514953  \n",
       "7   2004-03-15          328700    1998-04-09         225200.0           494321  \n",
       "8   2011-08-16          274900    2011-01-10              0.0           496079  \n",
       "9   2015-12-01          407000    2012-10-30         312000.0           424514  "
      ]
     },
     "execution_count": 4,
     "metadata": {},
     "output_type": "execute_result"
    }
   ],
   "source": [
    "df.head(10)"
   ]
  },
  {
   "cell_type": "code",
   "execution_count": 5,
   "metadata": {},
   "outputs": [
    {
     "name": "stdout",
     "output_type": "stream",
     "text": [
      "<class 'pandas.core.frame.DataFrame'>\n",
      "RangeIndex: 15000 entries, 0 to 14999\n",
      "Data columns (total 18 columns):\n",
      " #   Column           Non-Null Count  Dtype  \n",
      "---  ------           --------------  -----  \n",
      " 0   id               15000 non-null  int64  \n",
      " 1   address          15000 non-null  object \n",
      " 2   city             15000 non-null  object \n",
      " 3   state            15000 non-null  object \n",
      " 4   zipcode          15000 non-null  int64  \n",
      " 5   latitude         14985 non-null  float64\n",
      " 6   longitude        14985 non-null  float64\n",
      " 7   bedrooms         15000 non-null  int64  \n",
      " 8   bathrooms        15000 non-null  float64\n",
      " 9   rooms            15000 non-null  int64  \n",
      " 10  squareFootage    15000 non-null  int64  \n",
      " 11  lotSize          15000 non-null  int64  \n",
      " 12  yearBuilt        14999 non-null  float64\n",
      " 13  lastSaleDate     15000 non-null  object \n",
      " 14  lastSaleAmount   15000 non-null  int64  \n",
      " 15  priorSaleDate    11173 non-null  object \n",
      " 16  priorSaleAmount  11287 non-null  float64\n",
      " 17  estimated_value  15000 non-null  int64  \n",
      "dtypes: float64(5), int64(8), object(5)\n",
      "memory usage: 2.1+ MB\n"
     ]
    }
   ],
   "source": [
    "df.info()"
   ]
  },
  {
   "cell_type": "code",
   "execution_count": 6,
   "metadata": {},
   "outputs": [
    {
     "data": {
      "text/html": [
       "<div>\n",
       "<style scoped>\n",
       "    .dataframe tbody tr th:only-of-type {\n",
       "        vertical-align: middle;\n",
       "    }\n",
       "\n",
       "    .dataframe tbody tr th {\n",
       "        vertical-align: top;\n",
       "    }\n",
       "\n",
       "    .dataframe thead th {\n",
       "        text-align: right;\n",
       "    }\n",
       "</style>\n",
       "<table border=\"1\" class=\"dataframe\">\n",
       "  <thead>\n",
       "    <tr style=\"text-align: right;\">\n",
       "      <th></th>\n",
       "      <th>id</th>\n",
       "      <th>zipcode</th>\n",
       "      <th>latitude</th>\n",
       "      <th>longitude</th>\n",
       "      <th>bedrooms</th>\n",
       "      <th>bathrooms</th>\n",
       "      <th>rooms</th>\n",
       "      <th>squareFootage</th>\n",
       "      <th>lotSize</th>\n",
       "      <th>yearBuilt</th>\n",
       "      <th>lastSaleAmount</th>\n",
       "      <th>priorSaleAmount</th>\n",
       "      <th>estimated_value</th>\n",
       "    </tr>\n",
       "  </thead>\n",
       "  <tbody>\n",
       "    <tr>\n",
       "      <th>count</th>\n",
       "      <td>1.500000e+04</td>\n",
       "      <td>15000.000000</td>\n",
       "      <td>14985.000000</td>\n",
       "      <td>14985.000000</td>\n",
       "      <td>15000.000000</td>\n",
       "      <td>15000.000000</td>\n",
       "      <td>15000.000000</td>\n",
       "      <td>15000.000000</td>\n",
       "      <td>15000.00000</td>\n",
       "      <td>14999.000000</td>\n",
       "      <td>1.500000e+04</td>\n",
       "      <td>1.128700e+04</td>\n",
       "      <td>1.500000e+04</td>\n",
       "    </tr>\n",
       "    <tr>\n",
       "      <th>mean</th>\n",
       "      <td>5.176229e+07</td>\n",
       "      <td>80204.919467</td>\n",
       "      <td>39.740538</td>\n",
       "      <td>-104.964076</td>\n",
       "      <td>2.708400</td>\n",
       "      <td>2.195067</td>\n",
       "      <td>6.164133</td>\n",
       "      <td>1514.504400</td>\n",
       "      <td>5820.76620</td>\n",
       "      <td>1929.517168</td>\n",
       "      <td>4.053563e+05</td>\n",
       "      <td>2.594350e+05</td>\n",
       "      <td>6.371625e+05</td>\n",
       "    </tr>\n",
       "    <tr>\n",
       "      <th>std</th>\n",
       "      <td>6.190876e+07</td>\n",
       "      <td>9.715263</td>\n",
       "      <td>0.023555</td>\n",
       "      <td>0.039788</td>\n",
       "      <td>0.897231</td>\n",
       "      <td>1.166279</td>\n",
       "      <td>1.958601</td>\n",
       "      <td>830.635999</td>\n",
       "      <td>3013.27947</td>\n",
       "      <td>29.937051</td>\n",
       "      <td>7.756998e+05</td>\n",
       "      <td>3.379387e+05</td>\n",
       "      <td>5.044185e+05</td>\n",
       "    </tr>\n",
       "    <tr>\n",
       "      <th>min</th>\n",
       "      <td>1.433670e+05</td>\n",
       "      <td>80022.000000</td>\n",
       "      <td>39.614531</td>\n",
       "      <td>-105.108440</td>\n",
       "      <td>0.000000</td>\n",
       "      <td>0.000000</td>\n",
       "      <td>0.000000</td>\n",
       "      <td>350.000000</td>\n",
       "      <td>278.00000</td>\n",
       "      <td>1874.000000</td>\n",
       "      <td>2.590000e+02</td>\n",
       "      <td>0.000000e+00</td>\n",
       "      <td>1.477670e+05</td>\n",
       "    </tr>\n",
       "    <tr>\n",
       "      <th>25%</th>\n",
       "      <td>1.004802e+07</td>\n",
       "      <td>80205.000000</td>\n",
       "      <td>39.727634</td>\n",
       "      <td>-104.978737</td>\n",
       "      <td>2.000000</td>\n",
       "      <td>1.000000</td>\n",
       "      <td>5.000000</td>\n",
       "      <td>986.000000</td>\n",
       "      <td>4620.00000</td>\n",
       "      <td>1907.000000</td>\n",
       "      <td>1.940000e+05</td>\n",
       "      <td>1.100000e+05</td>\n",
       "      <td>3.984348e+05</td>\n",
       "    </tr>\n",
       "    <tr>\n",
       "      <th>50%</th>\n",
       "      <td>2.563241e+07</td>\n",
       "      <td>80206.000000</td>\n",
       "      <td>39.748048</td>\n",
       "      <td>-104.957689</td>\n",
       "      <td>3.000000</td>\n",
       "      <td>2.000000</td>\n",
       "      <td>6.000000</td>\n",
       "      <td>1267.500000</td>\n",
       "      <td>5950.00000</td>\n",
       "      <td>1925.000000</td>\n",
       "      <td>3.200000e+05</td>\n",
       "      <td>2.100000e+05</td>\n",
       "      <td>5.183575e+05</td>\n",
       "    </tr>\n",
       "    <tr>\n",
       "      <th>75%</th>\n",
       "      <td>5.114222e+07</td>\n",
       "      <td>80207.000000</td>\n",
       "      <td>39.758214</td>\n",
       "      <td>-104.937522</td>\n",
       "      <td>3.000000</td>\n",
       "      <td>3.000000</td>\n",
       "      <td>7.000000</td>\n",
       "      <td>1766.250000</td>\n",
       "      <td>6270.00000</td>\n",
       "      <td>1949.000000</td>\n",
       "      <td>4.632000e+05</td>\n",
       "      <td>3.302400e+05</td>\n",
       "      <td>6.879692e+05</td>\n",
       "    </tr>\n",
       "    <tr>\n",
       "      <th>max</th>\n",
       "      <td>3.209481e+08</td>\n",
       "      <td>80209.000000</td>\n",
       "      <td>39.888020</td>\n",
       "      <td>-104.830930</td>\n",
       "      <td>15.000000</td>\n",
       "      <td>12.000000</td>\n",
       "      <td>39.000000</td>\n",
       "      <td>10907.000000</td>\n",
       "      <td>122839.00000</td>\n",
       "      <td>2016.000000</td>\n",
       "      <td>4.560000e+07</td>\n",
       "      <td>1.600000e+07</td>\n",
       "      <td>1.014531e+07</td>\n",
       "    </tr>\n",
       "  </tbody>\n",
       "</table>\n",
       "</div>"
      ],
      "text/plain": [
       "                 id       zipcode      latitude     longitude      bedrooms  \\\n",
       "count  1.500000e+04  15000.000000  14985.000000  14985.000000  15000.000000   \n",
       "mean   5.176229e+07  80204.919467     39.740538   -104.964076      2.708400   \n",
       "std    6.190876e+07      9.715263      0.023555      0.039788      0.897231   \n",
       "min    1.433670e+05  80022.000000     39.614531   -105.108440      0.000000   \n",
       "25%    1.004802e+07  80205.000000     39.727634   -104.978737      2.000000   \n",
       "50%    2.563241e+07  80206.000000     39.748048   -104.957689      3.000000   \n",
       "75%    5.114222e+07  80207.000000     39.758214   -104.937522      3.000000   \n",
       "max    3.209481e+08  80209.000000     39.888020   -104.830930     15.000000   \n",
       "\n",
       "          bathrooms         rooms  squareFootage       lotSize     yearBuilt  \\\n",
       "count  15000.000000  15000.000000   15000.000000   15000.00000  14999.000000   \n",
       "mean       2.195067      6.164133    1514.504400    5820.76620   1929.517168   \n",
       "std        1.166279      1.958601     830.635999    3013.27947     29.937051   \n",
       "min        0.000000      0.000000     350.000000     278.00000   1874.000000   \n",
       "25%        1.000000      5.000000     986.000000    4620.00000   1907.000000   \n",
       "50%        2.000000      6.000000    1267.500000    5950.00000   1925.000000   \n",
       "75%        3.000000      7.000000    1766.250000    6270.00000   1949.000000   \n",
       "max       12.000000     39.000000   10907.000000  122839.00000   2016.000000   \n",
       "\n",
       "       lastSaleAmount  priorSaleAmount  estimated_value  \n",
       "count    1.500000e+04     1.128700e+04     1.500000e+04  \n",
       "mean     4.053563e+05     2.594350e+05     6.371625e+05  \n",
       "std      7.756998e+05     3.379387e+05     5.044185e+05  \n",
       "min      2.590000e+02     0.000000e+00     1.477670e+05  \n",
       "25%      1.940000e+05     1.100000e+05     3.984348e+05  \n",
       "50%      3.200000e+05     2.100000e+05     5.183575e+05  \n",
       "75%      4.632000e+05     3.302400e+05     6.879692e+05  \n",
       "max      4.560000e+07     1.600000e+07     1.014531e+07  "
      ]
     },
     "execution_count": 6,
     "metadata": {},
     "output_type": "execute_result"
    }
   ],
   "source": [
    "df.describe()"
   ]
  },
  {
   "cell_type": "markdown",
   "metadata": {},
   "source": [
    "### Reducing number of features in the dataset"
   ]
  },
  {
   "cell_type": "code",
   "execution_count": 7,
   "metadata": {},
   "outputs": [],
   "source": [
    "df = df[df['squareFootage'] <= 5000]"
   ]
  },
  {
   "cell_type": "code",
   "execution_count": 9,
   "metadata": {},
   "outputs": [
    {
     "name": "stdout",
     "output_type": "stream",
     "text": [
      "<class 'pandas.core.frame.DataFrame'>\n",
      "Int64Index: 14899 entries, 0 to 14999\n",
      "Data columns (total 18 columns):\n",
      " #   Column           Non-Null Count  Dtype  \n",
      "---  ------           --------------  -----  \n",
      " 0   id               14899 non-null  int64  \n",
      " 1   address          14899 non-null  object \n",
      " 2   city             14899 non-null  object \n",
      " 3   state            14899 non-null  object \n",
      " 4   zipcode          14899 non-null  int64  \n",
      " 5   latitude         14884 non-null  float64\n",
      " 6   longitude        14884 non-null  float64\n",
      " 7   bedrooms         14899 non-null  int64  \n",
      " 8   bathrooms        14899 non-null  float64\n",
      " 9   rooms            14899 non-null  int64  \n",
      " 10  squareFootage    14899 non-null  int64  \n",
      " 11  lotSize          14899 non-null  int64  \n",
      " 12  yearBuilt        14898 non-null  float64\n",
      " 13  lastSaleDate     14899 non-null  object \n",
      " 14  lastSaleAmount   14899 non-null  int64  \n",
      " 15  priorSaleDate    11108 non-null  object \n",
      " 16  priorSaleAmount  11219 non-null  float64\n",
      " 17  estimated_value  14899 non-null  int64  \n",
      "dtypes: float64(5), int64(8), object(5)\n",
      "memory usage: 2.2+ MB\n"
     ]
    }
   ],
   "source": [
    "df.info()"
   ]
  },
  {
   "cell_type": "code",
   "execution_count": 10,
   "metadata": {},
   "outputs": [],
   "source": [
    "X =df.drop('estimated_value', axis=1)\n",
    "X= X[['bedrooms', 'bathrooms',  'rooms', 'squareFootage','lotSize', 'yearBuilt']]"
   ]
  },
  {
   "cell_type": "code",
   "execution_count": 11,
   "metadata": {},
   "outputs": [
    {
     "name": "stdout",
     "output_type": "stream",
     "text": [
      "<class 'pandas.core.frame.DataFrame'>\n",
      "Int64Index: 14899 entries, 0 to 14999\n",
      "Data columns (total 6 columns):\n",
      " #   Column         Non-Null Count  Dtype  \n",
      "---  ------         --------------  -----  \n",
      " 0   bedrooms       14899 non-null  int64  \n",
      " 1   bathrooms      14899 non-null  float64\n",
      " 2   rooms          14899 non-null  int64  \n",
      " 3   squareFootage  14899 non-null  int64  \n",
      " 4   lotSize        14899 non-null  int64  \n",
      " 5   yearBuilt      14898 non-null  float64\n",
      "dtypes: float64(2), int64(4)\n",
      "memory usage: 814.8 KB\n"
     ]
    }
   ],
   "source": [
    "X.info()"
   ]
  },
  {
   "cell_type": "code",
   "execution_count": 12,
   "metadata": {},
   "outputs": [
    {
     "data": {
      "text/html": [
       "<div>\n",
       "<style scoped>\n",
       "    .dataframe tbody tr th:only-of-type {\n",
       "        vertical-align: middle;\n",
       "    }\n",
       "\n",
       "    .dataframe tbody tr th {\n",
       "        vertical-align: top;\n",
       "    }\n",
       "\n",
       "    .dataframe thead th {\n",
       "        text-align: right;\n",
       "    }\n",
       "</style>\n",
       "<table border=\"1\" class=\"dataframe\">\n",
       "  <thead>\n",
       "    <tr style=\"text-align: right;\">\n",
       "      <th></th>\n",
       "      <th>bedrooms</th>\n",
       "      <th>bathrooms</th>\n",
       "      <th>rooms</th>\n",
       "      <th>squareFootage</th>\n",
       "      <th>lotSize</th>\n",
       "      <th>yearBuilt</th>\n",
       "    </tr>\n",
       "  </thead>\n",
       "  <tbody>\n",
       "    <tr>\n",
       "      <th>0</th>\n",
       "      <td>3</td>\n",
       "      <td>2.0</td>\n",
       "      <td>6</td>\n",
       "      <td>1378</td>\n",
       "      <td>9968</td>\n",
       "      <td>2003.0</td>\n",
       "    </tr>\n",
       "    <tr>\n",
       "      <th>1</th>\n",
       "      <td>2</td>\n",
       "      <td>2.0</td>\n",
       "      <td>6</td>\n",
       "      <td>1653</td>\n",
       "      <td>6970</td>\n",
       "      <td>2004.0</td>\n",
       "    </tr>\n",
       "    <tr>\n",
       "      <th>2</th>\n",
       "      <td>3</td>\n",
       "      <td>1.0</td>\n",
       "      <td>0</td>\n",
       "      <td>1882</td>\n",
       "      <td>23875</td>\n",
       "      <td>1917.0</td>\n",
       "    </tr>\n",
       "    <tr>\n",
       "      <th>3</th>\n",
       "      <td>4</td>\n",
       "      <td>3.0</td>\n",
       "      <td>0</td>\n",
       "      <td>2400</td>\n",
       "      <td>11500</td>\n",
       "      <td>1956.0</td>\n",
       "    </tr>\n",
       "    <tr>\n",
       "      <th>4</th>\n",
       "      <td>3</td>\n",
       "      <td>4.0</td>\n",
       "      <td>8</td>\n",
       "      <td>2305</td>\n",
       "      <td>5600</td>\n",
       "      <td>1998.0</td>\n",
       "    </tr>\n",
       "  </tbody>\n",
       "</table>\n",
       "</div>"
      ],
      "text/plain": [
       "   bedrooms  bathrooms  rooms  squareFootage  lotSize  yearBuilt\n",
       "0         3        2.0      6           1378     9968     2003.0\n",
       "1         2        2.0      6           1653     6970     2004.0\n",
       "2         3        1.0      0           1882    23875     1917.0\n",
       "3         4        3.0      0           2400    11500     1956.0\n",
       "4         3        4.0      8           2305     5600     1998.0"
      ]
     },
     "execution_count": 12,
     "metadata": {},
     "output_type": "execute_result"
    }
   ],
   "source": [
    "X.fillna(0, inplace=True)\n",
    "\n",
    "X.head()"
   ]
  },
  {
   "cell_type": "code",
   "execution_count": 13,
   "metadata": {},
   "outputs": [
    {
     "name": "stdout",
     "output_type": "stream",
     "text": [
      "<class 'pandas.core.frame.DataFrame'>\n",
      "Int64Index: 14899 entries, 0 to 14999\n",
      "Data columns (total 6 columns):\n",
      " #   Column         Non-Null Count  Dtype  \n",
      "---  ------         --------------  -----  \n",
      " 0   bedrooms       14899 non-null  int64  \n",
      " 1   bathrooms      14899 non-null  float64\n",
      " 2   rooms          14899 non-null  int64  \n",
      " 3   squareFootage  14899 non-null  int64  \n",
      " 4   lotSize        14899 non-null  int64  \n",
      " 5   yearBuilt      14899 non-null  float64\n",
      "dtypes: float64(2), int64(4)\n",
      "memory usage: 814.8 KB\n"
     ]
    }
   ],
   "source": [
    "X.info()"
   ]
  },
  {
   "cell_type": "markdown",
   "metadata": {},
   "source": [
    "### Looking at KMeans and silhouette analysis"
   ]
  },
  {
   "cell_type": "code",
   "execution_count": 14,
   "metadata": {},
   "outputs": [],
   "source": [
    "kmeans = KMeans(n_clusters=5, random_state=0).fit(X)"
   ]
  },
  {
   "cell_type": "code",
   "execution_count": 15,
   "metadata": {},
   "outputs": [
    {
     "data": {
      "text/plain": [
       "KMeans(algorithm='auto', copy_x=True, init='k-means++', max_iter=300,\n",
       "       n_clusters=5, n_init=10, n_jobs=None, precompute_distances='auto',\n",
       "       random_state=0, tol=0.0001, verbose=0)"
      ]
     },
     "execution_count": 15,
     "metadata": {},
     "output_type": "execute_result"
    }
   ],
   "source": [
    "kmeans"
   ]
  },
  {
   "cell_type": "code",
   "execution_count": 16,
   "metadata": {},
   "outputs": [],
   "source": [
    "labels = kmeans.labels_"
   ]
  },
  {
   "cell_type": "code",
   "execution_count": 17,
   "metadata": {},
   "outputs": [
    {
     "data": {
      "text/plain": [
       "array([2.62939747e+00, 2.11097608e+00, 5.88409876e+00, 1.41971268e+03,\n",
       "       6.38393757e+03, 1.93953767e+03])"
      ]
     },
     "execution_count": 17,
     "metadata": {},
     "output_type": "execute_result"
    }
   ],
   "source": [
    "kmeans.cluster_centers_[0]"
   ]
  },
  {
   "cell_type": "code",
   "execution_count": 18,
   "metadata": {},
   "outputs": [
    {
     "data": {
      "text/html": [
       "<div>\n",
       "<style scoped>\n",
       "    .dataframe tbody tr th:only-of-type {\n",
       "        vertical-align: middle;\n",
       "    }\n",
       "\n",
       "    .dataframe tbody tr th {\n",
       "        vertical-align: top;\n",
       "    }\n",
       "\n",
       "    .dataframe thead th {\n",
       "        text-align: right;\n",
       "    }\n",
       "</style>\n",
       "<table border=\"1\" class=\"dataframe\">\n",
       "  <thead>\n",
       "    <tr style=\"text-align: right;\">\n",
       "      <th></th>\n",
       "      <th>bedrooms</th>\n",
       "      <th>bathrooms</th>\n",
       "      <th>rooms</th>\n",
       "      <th>squareFootage</th>\n",
       "      <th>lotSize</th>\n",
       "      <th>yearBuilt</th>\n",
       "    </tr>\n",
       "    <tr>\n",
       "      <th>cluster</th>\n",
       "      <th></th>\n",
       "      <th></th>\n",
       "      <th></th>\n",
       "      <th></th>\n",
       "      <th></th>\n",
       "      <th></th>\n",
       "    </tr>\n",
       "  </thead>\n",
       "  <tbody>\n",
       "    <tr>\n",
       "      <th>0</th>\n",
       "      <td>2.0</td>\n",
       "      <td>2.0</td>\n",
       "      <td>5.0</td>\n",
       "      <td>1152.0</td>\n",
       "      <td>6250.0</td>\n",
       "      <td>1946.0</td>\n",
       "    </tr>\n",
       "    <tr>\n",
       "      <th>1</th>\n",
       "      <td>3.0</td>\n",
       "      <td>2.0</td>\n",
       "      <td>6.0</td>\n",
       "      <td>1345.0</td>\n",
       "      <td>4370.0</td>\n",
       "      <td>1907.0</td>\n",
       "    </tr>\n",
       "    <tr>\n",
       "      <th>2</th>\n",
       "      <td>3.0</td>\n",
       "      <td>4.0</td>\n",
       "      <td>8.0</td>\n",
       "      <td>3443.0</td>\n",
       "      <td>15800.0</td>\n",
       "      <td>1951.0</td>\n",
       "    </tr>\n",
       "    <tr>\n",
       "      <th>3</th>\n",
       "      <td>4.0</td>\n",
       "      <td>6.0</td>\n",
       "      <td>11.0</td>\n",
       "      <td>4785.5</td>\n",
       "      <td>72201.5</td>\n",
       "      <td>1964.5</td>\n",
       "    </tr>\n",
       "    <tr>\n",
       "      <th>4</th>\n",
       "      <td>3.0</td>\n",
       "      <td>3.0</td>\n",
       "      <td>7.0</td>\n",
       "      <td>1919.5</td>\n",
       "      <td>9520.0</td>\n",
       "      <td>1948.0</td>\n",
       "    </tr>\n",
       "  </tbody>\n",
       "</table>\n",
       "</div>"
      ],
      "text/plain": [
       "         bedrooms  bathrooms  rooms  squareFootage  lotSize  yearBuilt\n",
       "cluster                                                               \n",
       "0             2.0        2.0    5.0         1152.0   6250.0     1946.0\n",
       "1             3.0        2.0    6.0         1345.0   4370.0     1907.0\n",
       "2             3.0        4.0    8.0         3443.0  15800.0     1951.0\n",
       "3             4.0        6.0   11.0         4785.5  72201.5     1964.5\n",
       "4             3.0        3.0    7.0         1919.5   9520.0     1948.0"
      ]
     },
     "execution_count": 18,
     "metadata": {},
     "output_type": "execute_result"
    }
   ],
   "source": [
    "X['cluster']=labels\n",
    "X.groupby('cluster').median()"
   ]
  },
  {
   "cell_type": "code",
   "execution_count": 19,
   "metadata": {},
   "outputs": [],
   "source": [
    "X=X.drop('cluster', axis=1)"
   ]
  },
  {
   "cell_type": "code",
   "execution_count": 20,
   "metadata": {},
   "outputs": [],
   "source": [
    "from sklearn.metrics import silhouette_score"
   ]
  },
  {
   "cell_type": "code",
   "execution_count": 21,
   "metadata": {
    "scrolled": false
   },
   "outputs": [
    {
     "name": "stdout",
     "output_type": "stream",
     "text": [
      "0.5180636172339566\n",
      "0.5272342129996993\n",
      "0.5287484800907011\n",
      "0.4799496666478706\n",
      "0.5128519795956776\n",
      "0.5194196288375474\n",
      "0.5204517995160618\n"
     ]
    }
   ],
   "source": [
    "for i in range(3,10):\n",
    "    kmeans=KMeans(n_clusters=i).fit(X)\n",
    "    labels = kmeans.labels_\n",
    "    print (silhouette_score(X, labels))"
   ]
  },
  {
   "cell_type": "markdown",
   "metadata": {},
   "source": [
    "### Linear Regression plots for each feature"
   ]
  },
  {
   "cell_type": "code",
   "execution_count": 22,
   "metadata": {},
   "outputs": [],
   "source": [
    "## Creating Linear Regression function to create lines for analysis\n",
    "from sklearn.linear_model import LinearRegression, LogisticRegression\n",
    "\n",
    "def lrl(x,y):\n",
    "    model = LinearRegression()\n",
    "    model.fit(X,y)\n",
    "    x_min = np.array([[X.min()]])\n",
    "    x_max = np.array([[X.max()]])\n",
    "    y_min = model.predict(x_min)\n",
    "    y_max = model.predict(x_max)\n",
    "    \n",
    "    return x_min, x_max, y_min, y_max"
   ]
  },
  {
   "cell_type": "code",
   "execution_count": 23,
   "metadata": {},
   "outputs": [
    {
     "data": {
      "image/png": "[encoded data removed]",
      "text/plain": [
       "<Figure size 720x1440 with 4 Axes>"
      ]
     },
     "metadata": {
      "needs_background": "light"
     },
     "output_type": "display_data"
    }
   ],
   "source": [
    "fig, axs = plt.subplots(4, figsize=(10,20))\n",
    "\n",
    "\n",
    "for i in range (7,11):\n",
    "    y = df.estimated_value.values.reshape(-1,1)\n",
    "    X = df.iloc[:,i].values.reshape(-1,1)\n",
    "    \n",
    "    x_min, x_max, y_min, y_max = lrl(X,y)\n",
    "    \n",
    "\n",
    "    axs[i-7].scatter(y=df.estimated_value, x=df.iloc[:,i])\n",
    "    axs[i-7].plot([x_min[0], x_max[0]], [y_min[0], y_max[0]], c='red')"
   ]
  },
  {
   "cell_type": "markdown",
   "metadata": {},
   "source": [
    "### Linear Regression using Train and Test"
   ]
  },
  {
   "cell_type": "code",
   "execution_count": 24,
   "metadata": {},
   "outputs": [],
   "source": [
    "from sklearn.linear_model import LinearRegression, LogisticRegression \n",
    "\n",
    "from sklearn.svm import SVC, SVR\n",
    "\n",
    "from sklearn.neighbors import KNeighborsClassifier , KNeighborsRegressor\n",
    "from sklearn.model_selection import train_test_split\n",
    "from sklearn.metrics import confusion_matrix"
   ]
  },
  {
   "cell_type": "code",
   "execution_count": 25,
   "metadata": {},
   "outputs": [
    {
     "data": {
      "text/html": [
       "<div>\n",
       "<style scoped>\n",
       "    .dataframe tbody tr th:only-of-type {\n",
       "        vertical-align: middle;\n",
       "    }\n",
       "\n",
       "    .dataframe tbody tr th {\n",
       "        vertical-align: top;\n",
       "    }\n",
       "\n",
       "    .dataframe thead th {\n",
       "        text-align: right;\n",
       "    }\n",
       "</style>\n",
       "<table border=\"1\" class=\"dataframe\">\n",
       "  <thead>\n",
       "    <tr style=\"text-align: right;\">\n",
       "      <th></th>\n",
       "      <th>bedrooms</th>\n",
       "      <th>bathrooms</th>\n",
       "      <th>rooms</th>\n",
       "      <th>squareFootage</th>\n",
       "      <th>lotSize</th>\n",
       "      <th>yearBuilt</th>\n",
       "      <th>lastSaleAmount</th>\n",
       "    </tr>\n",
       "  </thead>\n",
       "  <tbody>\n",
       "    <tr>\n",
       "      <th>0</th>\n",
       "      <td>3</td>\n",
       "      <td>2.0</td>\n",
       "      <td>6</td>\n",
       "      <td>1378</td>\n",
       "      <td>9968</td>\n",
       "      <td>2003.0</td>\n",
       "      <td>75000</td>\n",
       "    </tr>\n",
       "    <tr>\n",
       "      <th>1</th>\n",
       "      <td>2</td>\n",
       "      <td>2.0</td>\n",
       "      <td>6</td>\n",
       "      <td>1653</td>\n",
       "      <td>6970</td>\n",
       "      <td>2004.0</td>\n",
       "      <td>216935</td>\n",
       "    </tr>\n",
       "    <tr>\n",
       "      <th>2</th>\n",
       "      <td>3</td>\n",
       "      <td>1.0</td>\n",
       "      <td>0</td>\n",
       "      <td>1882</td>\n",
       "      <td>23875</td>\n",
       "      <td>1917.0</td>\n",
       "      <td>330000</td>\n",
       "    </tr>\n",
       "    <tr>\n",
       "      <th>3</th>\n",
       "      <td>4</td>\n",
       "      <td>3.0</td>\n",
       "      <td>0</td>\n",
       "      <td>2400</td>\n",
       "      <td>11500</td>\n",
       "      <td>1956.0</td>\n",
       "      <td>185000</td>\n",
       "    </tr>\n",
       "    <tr>\n",
       "      <th>4</th>\n",
       "      <td>3</td>\n",
       "      <td>4.0</td>\n",
       "      <td>8</td>\n",
       "      <td>2305</td>\n",
       "      <td>5600</td>\n",
       "      <td>1998.0</td>\n",
       "      <td>308000</td>\n",
       "    </tr>\n",
       "    <tr>\n",
       "      <th>5</th>\n",
       "      <td>3</td>\n",
       "      <td>5.0</td>\n",
       "      <td>7</td>\n",
       "      <td>2051</td>\n",
       "      <td>6045</td>\n",
       "      <td>1996.0</td>\n",
       "      <td>363500</td>\n",
       "    </tr>\n",
       "    <tr>\n",
       "      <th>6</th>\n",
       "      <td>4</td>\n",
       "      <td>4.0</td>\n",
       "      <td>8</td>\n",
       "      <td>2051</td>\n",
       "      <td>6315</td>\n",
       "      <td>1997.0</td>\n",
       "      <td>420000</td>\n",
       "    </tr>\n",
       "    <tr>\n",
       "      <th>7</th>\n",
       "      <td>3</td>\n",
       "      <td>3.0</td>\n",
       "      <td>7</td>\n",
       "      <td>2051</td>\n",
       "      <td>8133</td>\n",
       "      <td>1997.0</td>\n",
       "      <td>328700</td>\n",
       "    </tr>\n",
       "    <tr>\n",
       "      <th>8</th>\n",
       "      <td>3</td>\n",
       "      <td>3.0</td>\n",
       "      <td>7</td>\n",
       "      <td>1796</td>\n",
       "      <td>5038</td>\n",
       "      <td>1999.0</td>\n",
       "      <td>274900</td>\n",
       "    </tr>\n",
       "    <tr>\n",
       "      <th>9</th>\n",
       "      <td>3</td>\n",
       "      <td>3.0</td>\n",
       "      <td>0</td>\n",
       "      <td>2054</td>\n",
       "      <td>4050</td>\n",
       "      <td>2007.0</td>\n",
       "      <td>407000</td>\n",
       "    </tr>\n",
       "  </tbody>\n",
       "</table>\n",
       "</div>"
      ],
      "text/plain": [
       "   bedrooms  bathrooms  rooms  squareFootage  lotSize  yearBuilt  \\\n",
       "0         3        2.0      6           1378     9968     2003.0   \n",
       "1         2        2.0      6           1653     6970     2004.0   \n",
       "2         3        1.0      0           1882    23875     1917.0   \n",
       "3         4        3.0      0           2400    11500     1956.0   \n",
       "4         3        4.0      8           2305     5600     1998.0   \n",
       "5         3        5.0      7           2051     6045     1996.0   \n",
       "6         4        4.0      8           2051     6315     1997.0   \n",
       "7         3        3.0      7           2051     8133     1997.0   \n",
       "8         3        3.0      7           1796     5038     1999.0   \n",
       "9         3        3.0      0           2054     4050     2007.0   \n",
       "\n",
       "   lastSaleAmount  \n",
       "0           75000  \n",
       "1          216935  \n",
       "2          330000  \n",
       "3          185000  \n",
       "4          308000  \n",
       "5          363500  \n",
       "6          420000  \n",
       "7          328700  \n",
       "8          274900  \n",
       "9          407000  "
      ]
     },
     "execution_count": 25,
     "metadata": {},
     "output_type": "execute_result"
    }
   ],
   "source": [
    "X =df.drop('estimated_value', axis=1)\n",
    "X= X[['bedrooms', 'bathrooms',  'rooms', 'squareFootage','lotSize', 'yearBuilt', 'lastSaleAmount']]\n",
    "X.fillna(0, inplace=True)\n",
    "X.head(10)"
   ]
  },
  {
   "cell_type": "code",
   "execution_count": null,
   "metadata": {},
   "outputs": [],
   "source": []
  },
  {
   "cell_type": "code",
   "execution_count": null,
   "metadata": {},
   "outputs": [],
   "source": []
  },
  {
   "cell_type": "code",
   "execution_count": 20,
   "metadata": {},
   "outputs": [],
   "source": [
    "y=df.estimated_value.values.reshape(-1,1)"
   ]
  },
  {
   "cell_type": "code",
   "execution_count": 21,
   "metadata": {},
   "outputs": [
    {
     "data": {
      "text/plain": [
       "0.7589399621092572"
      ]
     },
     "execution_count": 21,
     "metadata": {},
     "output_type": "execute_result"
    }
   ],
   "source": [
    "lg = LinearRegression()\n",
    "lg.fit(X,y)\n",
    "lg.score(X,y)"
   ]
  },
  {
   "cell_type": "code",
   "execution_count": 22,
   "metadata": {},
   "outputs": [],
   "source": [
    "X_train, X_test, y_train, y_test= train_test_split(X,y)"
   ]
  },
  {
   "cell_type": "code",
   "execution_count": 23,
   "metadata": {},
   "outputs": [
    {
     "data": {
      "text/plain": [
       "((11250, 7), (11250, 1))"
      ]
     },
     "execution_count": 23,
     "metadata": {},
     "output_type": "execute_result"
    }
   ],
   "source": [
    "X_train.shape, y_train.shape"
   ]
  },
  {
   "cell_type": "code",
   "execution_count": 24,
   "metadata": {},
   "outputs": [
    {
     "data": {
      "text/plain": [
       "0.7338134310432171"
      ]
     },
     "execution_count": 24,
     "metadata": {},
     "output_type": "execute_result"
    }
   ],
   "source": [
    "lg = LinearRegression()\n",
    "lg.fit(X_train,y_train) # training , fit \n",
    "lg.score(X_test,y_test) # evaluate , score, R2 "
   ]
  },
  {
   "cell_type": "code",
   "execution_count": 25,
   "metadata": {},
   "outputs": [
    {
     "name": "stdout",
     "output_type": "stream",
     "text": [
      "MSE: 62702022889.43774, R2: 0.7338134310432171\n"
     ]
    }
   ],
   "source": [
    "from sklearn.metrics import mean_squared_error\n",
    "\n",
    "predictions = lg.predict(X_test)\n",
    "MSE = mean_squared_error(y_test, predictions)\n",
    "r2 = lg.score(X_test, y_test)\n",
    "\n",
    "print(f\"MSE: {MSE}, R2: {r2}\")\n",
    "\n",
    "# Not a very good MSW or R2 for this dataset"
   ]
  },
  {
   "cell_type": "code",
   "execution_count": 26,
   "metadata": {},
   "outputs": [
    {
     "data": {
      "text/plain": [
       "array([[3.000e+00, 5.000e+00, 7.000e+00, 2.051e+03, 6.045e+03, 1.996e+03,\n",
       "        3.635e+05]])"
      ]
     },
     "execution_count": 26,
     "metadata": {},
     "output_type": "execute_result"
    }
   ],
   "source": [
    "house = np.array([3, 5.0, 7, 2051, 6045, 1996.0, 363500]).reshape(-1,1).transpose()\n",
    "house"
   ]
  },
  {
   "cell_type": "code",
   "execution_count": 27,
   "metadata": {},
   "outputs": [
    {
     "data": {
      "text/plain": [
       "array([[1033941.37021406]])"
      ]
     },
     "execution_count": 27,
     "metadata": {},
     "output_type": "execute_result"
    }
   ],
   "source": [
    "y_pred = lg.predict(house)\n",
    "y_pred"
   ]
  },
  {
   "cell_type": "code",
   "execution_count": 28,
   "metadata": {},
   "outputs": [
    {
     "data": {
      "image/png": "[encoded data removed]",
      "text/plain": [
       "<Figure size 432x288 with 1 Axes>"
      ]
     },
     "metadata": {
      "needs_background": "light"
     },
     "output_type": "display_data"
    }
   ],
   "source": [
    "predictions = lg.predict(X_test)\n",
    "lg.fit(X_train, y_train)\n",
    "plt.scatter(lg.predict(X_train), lg.predict(X_train) - y_train, c=\"blue\", label=\"Training Data\")\n",
    "plt.scatter(lg.predict(X_test), lg.predict(X_test) - y_test, c=\"orange\", label=\"Testing Data\")\n",
    "plt.legend()\n",
    "plt.hlines(y=0, xmin=y_test.min(), xmax=y_test.max())\n",
    "plt.title(\"Residual Plot\")\n",
    "plt.show()"
   ]
  },
  {
   "cell_type": "code",
   "execution_count": 29,
   "metadata": {},
   "outputs": [],
   "source": [
    "# Scaling the dataset\n",
    "from sklearn.preprocessing import StandardScaler\n",
    "\n",
    "X_scaler = StandardScaler().fit(X_train)\n",
    "y_scaler = StandardScaler().fit(y_train)"
   ]
  },
  {
   "cell_type": "code",
   "execution_count": 30,
   "metadata": {},
   "outputs": [],
   "source": [
    "X_train_scaled = X_scaler.transform(X_train)\n",
    "X_test_scaled = X_scaler.transform(X_test)\n",
    "y_train_scaled = y_scaler.transform(y_train)\n",
    "y_test_scaled = y_scaler.transform(y_test)"
   ]
  },
  {
   "cell_type": "code",
   "execution_count": 31,
   "metadata": {},
   "outputs": [
    {
     "data": {
      "text/plain": [
       "0.7338134310414692"
      ]
     },
     "execution_count": 31,
     "metadata": {},
     "output_type": "execute_result"
    }
   ],
   "source": [
    "from sklearn.linear_model import LinearRegression\n",
    "model = LinearRegression()\n",
    "model.fit(X_train_scaled, y_train_scaled)\n",
    "model.score(X_test_scaled, y_test_scaled)"
   ]
  },
  {
   "cell_type": "code",
   "execution_count": 32,
   "metadata": {},
   "outputs": [
    {
     "data": {
      "text/plain": [
       "array([[49776.42823811]])"
      ]
     },
     "execution_count": 32,
     "metadata": {},
     "output_type": "execute_result"
    }
   ],
   "source": [
    "y_scaled_pred = model.predict(house)\n",
    "y_scaled_pred"
   ]
  },
  {
   "cell_type": "code",
   "execution_count": 33,
   "metadata": {},
   "outputs": [
    {
     "data": {
      "image/png": "[encoded data removed]",
      "text/plain": [
       "<Figure size 432x288 with 1 Axes>"
      ]
     },
     "metadata": {
      "needs_background": "light"
     },
     "output_type": "display_data"
    }
   ],
   "source": [
    "predictions = model.predict(X_test_scaled)\n",
    "model.fit(X_train_scaled, y_train_scaled)\n",
    "plt.scatter(model.predict(X_train_scaled), model.predict(X_train_scaled) - y_train_scaled, c=\"blue\", label=\"Training Data\")\n",
    "plt.scatter(model.predict(X_test_scaled), model.predict(X_test_scaled) - y_test_scaled, c=\"orange\", label=\"Testing Data\")\n",
    "plt.legend()\n",
    "plt.hlines(y=0, xmin=y_test_scaled.min(), xmax=y_test_scaled.max())\n",
    "plt.title(\"Residual Plot\")\n",
    "plt.show()"
   ]
  },
  {
   "cell_type": "code",
   "execution_count": 34,
   "metadata": {},
   "outputs": [
    {
     "name": "stdout",
     "output_type": "stream",
     "text": [
      "MSE: 0.24051315354888975, R2: 0.7338134310414692\n"
     ]
    }
   ],
   "source": [
    "MSE = mean_squared_error(y_test_scaled, predictions)\n",
    "r2 = model.score(X_test_scaled, y_test_scaled)\n",
    "\n",
    "print(f\"MSE: {MSE}, R2: {r2}\")"
   ]
  },
  {
   "cell_type": "code",
   "execution_count": 35,
   "metadata": {},
   "outputs": [
    {
     "data": {
      "text/plain": [
       "array([[49776.42823811]])"
      ]
     },
     "execution_count": 35,
     "metadata": {},
     "output_type": "execute_result"
    }
   ],
   "source": [
    "y_pred_scale = model.predict(house)\n",
    "y_pred_scale"
   ]
  },
  {
   "cell_type": "code",
   "execution_count": 36,
   "metadata": {},
   "outputs": [
    {
     "name": "stdout",
     "output_type": "stream",
     "text": [
      "MSE: 0.23927703274093043, R2: 0.7351815007367595\n"
     ]
    }
   ],
   "source": [
    "from sklearn.linear_model import Lasso\n",
    "\n",
    "### BEGIN SOLUTION\n",
    "lasso = Lasso(alpha=.01).fit(X_train_scaled, y_train_scaled)\n",
    "\n",
    "predictions = lasso.predict(X_test_scaled)\n",
    "\n",
    "MSE = mean_squared_error(y_test_scaled, predictions)\n",
    "r2 = lasso.score(X_test_scaled, y_test_scaled)\n",
    "### END SOLUTION\n",
    "\n",
    "print(f\"MSE: {MSE}, R2: {r2}\")"
   ]
  },
  {
   "cell_type": "code",
   "execution_count": 37,
   "metadata": {},
   "outputs": [
    {
     "name": "stdout",
     "output_type": "stream",
     "text": [
      "MSE: 0.24051315665210368, R2: 0.7338134276070047\n"
     ]
    }
   ],
   "source": [
    "from sklearn.linear_model import Ridge\n",
    "\n",
    "### BEGIN SOLUTION\n",
    "ridge = Ridge(alpha=.01).fit(X_train_scaled, y_train_scaled)\n",
    "\n",
    "predictions = ridge.predict(X_test_scaled)\n",
    "\n",
    "MSE = mean_squared_error(y_test_scaled, predictions)\n",
    "r2 = ridge.score(X_test_scaled, y_test_scaled)\n",
    "### END SOLUTION\n",
    "\n",
    "print(f\"MSE: {MSE}, R2: {r2}\")"
   ]
  },
  {
   "cell_type": "code",
   "execution_count": 38,
   "metadata": {},
   "outputs": [
    {
     "data": {
      "text/plain": [
       "array([[49776.47345936]])"
      ]
     },
     "execution_count": 38,
     "metadata": {},
     "output_type": "execute_result"
    }
   ],
   "source": [
    "y_pred_ridge = ridge.predict(house)\n",
    "y_pred_ridge"
   ]
  },
  {
   "cell_type": "code",
   "execution_count": 39,
   "metadata": {},
   "outputs": [
    {
     "name": "stdout",
     "output_type": "stream",
     "text": [
      "MSE: 0.2399034575611753, R2: 0.7344882086188399\n"
     ]
    }
   ],
   "source": [
    "from sklearn.linear_model import ElasticNet\n",
    "\n",
    "### BEGIN SOLUTION\n",
    "elasticnet = ElasticNet(alpha=.01).fit(X_train_scaled, y_train_scaled)\n",
    "\n",
    "predictions = elasticnet.predict(X_test_scaled)\n",
    "\n",
    "MSE = mean_squared_error(y_test_scaled, predictions)\n",
    "r2 = elasticnet.score(X_test_scaled, y_test_scaled)\n",
    "### END SOLUTION\n",
    "\n",
    "print(f\"MSE: {MSE}, R2: {r2}\")"
   ]
  },
  {
   "cell_type": "code",
   "execution_count": 40,
   "metadata": {},
   "outputs": [
    {
     "data": {
      "text/plain": [
       "array([49167.83451413])"
      ]
     },
     "execution_count": 40,
     "metadata": {},
     "output_type": "execute_result"
    }
   ],
   "source": [
    "y_pred_elas = elasticnet.predict(house)\n",
    "y_pred_elas"
   ]
  },
  {
   "cell_type": "markdown",
   "metadata": {},
   "source": [
    "### PCA Analysis"
   ]
  },
  {
   "cell_type": "code",
   "execution_count": 41,
   "metadata": {},
   "outputs": [
    {
     "data": {
      "text/html": [
       "<div>\n",
       "<style scoped>\n",
       "    .dataframe tbody tr th:only-of-type {\n",
       "        vertical-align: middle;\n",
       "    }\n",
       "\n",
       "    .dataframe tbody tr th {\n",
       "        vertical-align: top;\n",
       "    }\n",
       "\n",
       "    .dataframe thead th {\n",
       "        text-align: right;\n",
       "    }\n",
       "</style>\n",
       "<table border=\"1\" class=\"dataframe\">\n",
       "  <thead>\n",
       "    <tr style=\"text-align: right;\">\n",
       "      <th></th>\n",
       "      <th>bedrooms</th>\n",
       "      <th>bathrooms</th>\n",
       "      <th>rooms</th>\n",
       "      <th>squareFootage</th>\n",
       "      <th>lotSize</th>\n",
       "      <th>yearBuilt</th>\n",
       "      <th>lastSaleAmount</th>\n",
       "    </tr>\n",
       "  </thead>\n",
       "  <tbody>\n",
       "    <tr>\n",
       "      <th>0</th>\n",
       "      <td>3</td>\n",
       "      <td>2.0</td>\n",
       "      <td>6</td>\n",
       "      <td>1378</td>\n",
       "      <td>9968</td>\n",
       "      <td>2003.0</td>\n",
       "      <td>75000</td>\n",
       "    </tr>\n",
       "    <tr>\n",
       "      <th>1</th>\n",
       "      <td>2</td>\n",
       "      <td>2.0</td>\n",
       "      <td>6</td>\n",
       "      <td>1653</td>\n",
       "      <td>6970</td>\n",
       "      <td>2004.0</td>\n",
       "      <td>216935</td>\n",
       "    </tr>\n",
       "    <tr>\n",
       "      <th>4</th>\n",
       "      <td>3</td>\n",
       "      <td>4.0</td>\n",
       "      <td>8</td>\n",
       "      <td>2305</td>\n",
       "      <td>5600</td>\n",
       "      <td>1998.0</td>\n",
       "      <td>308000</td>\n",
       "    </tr>\n",
       "    <tr>\n",
       "      <th>5</th>\n",
       "      <td>3</td>\n",
       "      <td>5.0</td>\n",
       "      <td>7</td>\n",
       "      <td>2051</td>\n",
       "      <td>6045</td>\n",
       "      <td>1996.0</td>\n",
       "      <td>363500</td>\n",
       "    </tr>\n",
       "    <tr>\n",
       "      <th>6</th>\n",
       "      <td>4</td>\n",
       "      <td>4.0</td>\n",
       "      <td>8</td>\n",
       "      <td>2051</td>\n",
       "      <td>6315</td>\n",
       "      <td>1997.0</td>\n",
       "      <td>420000</td>\n",
       "    </tr>\n",
       "  </tbody>\n",
       "</table>\n",
       "</div>"
      ],
      "text/plain": [
       "   bedrooms  bathrooms  rooms  squareFootage  lotSize  yearBuilt  \\\n",
       "0         3        2.0      6           1378     9968     2003.0   \n",
       "1         2        2.0      6           1653     6970     2004.0   \n",
       "4         3        4.0      8           2305     5600     1998.0   \n",
       "5         3        5.0      7           2051     6045     1996.0   \n",
       "6         4        4.0      8           2051     6315     1997.0   \n",
       "\n",
       "   lastSaleAmount  \n",
       "0           75000  \n",
       "1          216935  \n",
       "4          308000  \n",
       "5          363500  \n",
       "6          420000  "
      ]
     },
     "execution_count": 41,
     "metadata": {},
     "output_type": "execute_result"
    }
   ],
   "source": [
    "df2 = df[['bedrooms', 'bathrooms',  'rooms', 'squareFootage','lotSize', 'yearBuilt','lastSaleAmount']]\n",
    "df2 = df2[df2['yearBuilt'] > 1990]\n",
    "df2.head()"
   ]
  },
  {
   "cell_type": "code",
   "execution_count": 42,
   "metadata": {},
   "outputs": [
    {
     "name": "stdout",
     "output_type": "stream",
     "text": [
      "Covariance Matrix:\n",
      " [[ 1.00104822  0.30406509  0.38264789  0.35100614  0.27169456  0.08155204\n",
      "   0.06758127]\n",
      " [ 0.30406509  1.00104822  0.6614868   0.82159295  0.34801535  0.16542077\n",
      "   0.56561631]\n",
      " [ 0.38264789  0.6614868   1.00104822  0.71039139  0.31640844  0.02471534\n",
      "   0.41876207]\n",
      " [ 0.35100614  0.82159295  0.71039139  1.00104822  0.52819089  0.14488811\n",
      "   0.61908579]\n",
      " [ 0.27169456  0.34801535  0.31640844  0.52819089  1.00104822 -0.02563791\n",
      "   0.34671267]\n",
      " [ 0.08155204  0.16542077  0.02471534  0.14488811 -0.02563791  1.00104822\n",
      "   0.11126619]\n",
      " [ 0.06758127  0.56561631  0.41876207  0.61908579  0.34671267  0.11126619\n",
      "   1.00104822]]\n"
     ]
    }
   ],
   "source": [
    "X2 = StandardScaler().fit_transform(df2)\n",
    "Xt = X2.T\n",
    "Cx = np.cov(Xt)\n",
    "print ('Covariance Matrix:\\n', Cx)"
   ]
  },
  {
   "cell_type": "code",
   "execution_count": 43,
   "metadata": {},
   "outputs": [
    {
     "name": "stdout",
     "output_type": "stream",
     "text": [
      "Eigenvector 1: \n",
      "[[0.25705748]\n",
      " [0.47458421]\n",
      " [0.43658117]\n",
      " [0.50907414]\n",
      " [0.32447889]\n",
      " [0.09169327]\n",
      " [0.38110035]]\n",
      "Eigenvalue 1: 3.3796667155898565\n",
      "----------------------------------------\n",
      "Eigenvector 2: \n",
      "[[ 0.18788765]\n",
      " [-0.11384802]\n",
      " [ 0.10982728]\n",
      " [-0.01647191]\n",
      " [ 0.32245384]\n",
      " [-0.90224287]\n",
      " [-0.14623553]]\n",
      "Eigenvalue 2: 1.0317721911010784\n",
      "----------------------------------------\n",
      "Eigenvector 3: \n",
      "[[ 0.81450226]\n",
      " [-0.08671541]\n",
      " [ 0.08712834]\n",
      " [-0.07599325]\n",
      " [-0.01244222]\n",
      " [ 0.26811079]\n",
      " [-0.49362129]]\n",
      "Eigenvalue 3: 0.9585967663578825\n",
      "----------------------------------------\n",
      "Eigenvector 4: \n",
      "[[-0.00907578]\n",
      " [-0.50795592]\n",
      " [-0.16241943]\n",
      " [ 0.81681278]\n",
      " [-0.1982141 ]\n",
      " [-0.02861592]\n",
      " [-0.09070566]]\n",
      "Eigenvalue 4: 0.1429622314829828\n",
      "----------------------------------------\n",
      "Eigenvector 5: \n",
      "[[ 0.48225643]\n",
      " [-0.14338192]\n",
      " [-0.36862768]\n",
      " [-0.14369994]\n",
      " [-0.25270531]\n",
      " [-0.12975054]\n",
      " [ 0.71389015]]\n",
      "Eigenvalue 5: 0.4492959533461534\n",
      "----------------------------------------\n",
      "Eigenvector 6: \n",
      "[[ 0.04906725]\n",
      " [ 0.64366332]\n",
      " [-0.66608481]\n",
      " [ 0.21558418]\n",
      " [-0.07884182]\n",
      " [-0.14234667]\n",
      " [-0.25819725]]\n",
      "Eigenvalue 6: 0.30877625616708054\n",
      "----------------------------------------\n",
      "Eigenvector 7: \n",
      "[[ 0.01202172]\n",
      " [ 0.24780804]\n",
      " [ 0.42872847]\n",
      " [ 0.02208831]\n",
      " [-0.82535891]\n",
      " [-0.26028852]\n",
      " [-0.07199461]]\n",
      "Eigenvalue 7: 0.7362674121604209\n",
      "----------------------------------------\n",
      "The percentage of total variance in the dataset explained by each component calculated by hand \n",
      " [0.48230397 0.14724169 0.136799   0.02040179 0.06411793 0.0440647\n",
      " 0.10507092]\n"
     ]
    }
   ],
   "source": [
    "eig_val_cov, eig_vec_cov = np.linalg.eig(Cx)\n",
    "\n",
    "# Inspecting the eigenvalues and eigenvectors.\n",
    "for i in range(len(eig_val_cov)):\n",
    "    eigvec_cov = eig_vec_cov[:, i].reshape(1, 7).T\n",
    "    print('Eigenvector {}: \\n{}'.format(i + 1, eigvec_cov))\n",
    "    print('Eigenvalue {}: {}'.format(i + 1, eig_val_cov[i]))\n",
    "    print(40 * '-')\n",
    "\n",
    "print ('The percentage of total variance in the dataset explained by each component calculated by hand \\n',  eig_val_cov / sum(eig_val_cov))\n"
   ]
  },
  {
   "cell_type": "code",
   "execution_count": 44,
   "metadata": {},
   "outputs": [
    {
     "data": {
      "image/png": "[encoded data removed]",
      "text/plain": [
       "<Figure size 432x288 with 1 Axes>"
      ]
     },
     "metadata": {
      "needs_background": "light"
     },
     "output_type": "display_data"
    }
   ],
   "source": [
    "plt.plot(eig_val_cov)\n",
    "plt.show()"
   ]
  },
  {
   "cell_type": "markdown",
   "metadata": {},
   "source": [
    "### Random Forest"
   ]
  },
  {
   "cell_type": "code",
   "execution_count": 45,
   "metadata": {},
   "outputs": [],
   "source": [
    "from sklearn import tree"
   ]
  },
  {
   "cell_type": "code",
   "execution_count": 58,
   "metadata": {},
   "outputs": [],
   "source": [
    "df3 = df[['bedrooms', 'bathrooms',  'rooms', 'squareFootage','lotSize', 'yearBuilt', 'estimated_value']]\n",
    "df3 = df3[df3['yearBuilt'] > 1990]\n",
    "df3.fillna(0, inplace=True)"
   ]
  },
  {
   "cell_type": "code",
   "execution_count": 59,
   "metadata": {},
   "outputs": [
    {
     "data": {
      "text/html": [
       "<div>\n",
       "<style scoped>\n",
       "    .dataframe tbody tr th:only-of-type {\n",
       "        vertical-align: middle;\n",
       "    }\n",
       "\n",
       "    .dataframe tbody tr th {\n",
       "        vertical-align: top;\n",
       "    }\n",
       "\n",
       "    .dataframe thead th {\n",
       "        text-align: right;\n",
       "    }\n",
       "</style>\n",
       "<table border=\"1\" class=\"dataframe\">\n",
       "  <thead>\n",
       "    <tr style=\"text-align: right;\">\n",
       "      <th></th>\n",
       "      <th>bedrooms</th>\n",
       "      <th>bathrooms</th>\n",
       "      <th>rooms</th>\n",
       "      <th>squareFootage</th>\n",
       "      <th>lotSize</th>\n",
       "      <th>yearBuilt</th>\n",
       "    </tr>\n",
       "  </thead>\n",
       "  <tbody>\n",
       "    <tr>\n",
       "      <th>0</th>\n",
       "      <td>3</td>\n",
       "      <td>2.0</td>\n",
       "      <td>6</td>\n",
       "      <td>1378</td>\n",
       "      <td>9968</td>\n",
       "      <td>2003.0</td>\n",
       "    </tr>\n",
       "    <tr>\n",
       "      <th>1</th>\n",
       "      <td>2</td>\n",
       "      <td>2.0</td>\n",
       "      <td>6</td>\n",
       "      <td>1653</td>\n",
       "      <td>6970</td>\n",
       "      <td>2004.0</td>\n",
       "    </tr>\n",
       "    <tr>\n",
       "      <th>4</th>\n",
       "      <td>3</td>\n",
       "      <td>4.0</td>\n",
       "      <td>8</td>\n",
       "      <td>2305</td>\n",
       "      <td>5600</td>\n",
       "      <td>1998.0</td>\n",
       "    </tr>\n",
       "    <tr>\n",
       "      <th>5</th>\n",
       "      <td>3</td>\n",
       "      <td>5.0</td>\n",
       "      <td>7</td>\n",
       "      <td>2051</td>\n",
       "      <td>6045</td>\n",
       "      <td>1996.0</td>\n",
       "    </tr>\n",
       "    <tr>\n",
       "      <th>6</th>\n",
       "      <td>4</td>\n",
       "      <td>4.0</td>\n",
       "      <td>8</td>\n",
       "      <td>2051</td>\n",
       "      <td>6315</td>\n",
       "      <td>1997.0</td>\n",
       "    </tr>\n",
       "  </tbody>\n",
       "</table>\n",
       "</div>"
      ],
      "text/plain": [
       "   bedrooms  bathrooms  rooms  squareFootage  lotSize  yearBuilt\n",
       "0         3        2.0      6           1378     9968     2003.0\n",
       "1         2        2.0      6           1653     6970     2004.0\n",
       "4         3        4.0      8           2305     5600     1998.0\n",
       "5         3        5.0      7           2051     6045     1996.0\n",
       "6         4        4.0      8           2051     6315     1997.0"
      ]
     },
     "execution_count": 59,
     "metadata": {},
     "output_type": "execute_result"
    }
   ],
   "source": [
    "target = df3['estimated_value']\n",
    "\n",
    "data = df3.drop('estimated_value', axis=1)\n",
    "feature_names = data.columns\n",
    "data.head()"
   ]
  },
  {
   "cell_type": "code",
   "execution_count": 60,
   "metadata": {},
   "outputs": [],
   "source": [
    "X_train, X_test, y_train, y_test = train_test_split(data, target, random_state=0)"
   ]
  },
  {
   "cell_type": "code",
   "execution_count": 61,
   "metadata": {},
   "outputs": [
    {
     "data": {
      "text/plain": [
       "0.0"
      ]
     },
     "execution_count": 61,
     "metadata": {},
     "output_type": "execute_result"
    }
   ],
   "source": [
    "clf = tree.DecisionTreeClassifier()\n",
    "clf = clf.fit(X_train, y_train)\n",
    "clf.score(X_test, y_test)"
   ]
  },
  {
   "cell_type": "code",
   "execution_count": 62,
   "metadata": {},
   "outputs": [
    {
     "data": {
      "text/plain": [
       "DecisionTreeClassifier(ccp_alpha=0.0, class_weight=None, criterion='gini',\n",
       "                       max_depth=None, max_features=None, max_leaf_nodes=None,\n",
       "                       min_impurity_decrease=0.0, min_impurity_split=None,\n",
       "                       min_samples_leaf=1, min_samples_split=2,\n",
       "                       min_weight_fraction_leaf=0.0, presort='deprecated',\n",
       "                       random_state=None, splitter='best')"
      ]
     },
     "execution_count": 62,
     "metadata": {},
     "output_type": "execute_result"
    }
   ],
   "source": [
    "clf"
   ]
  },
  {
   "cell_type": "code",
   "execution_count": 63,
   "metadata": {},
   "outputs": [
    {
     "data": {
      "text/plain": [
       "0.0"
      ]
     },
     "execution_count": 63,
     "metadata": {},
     "output_type": "execute_result"
    }
   ],
   "source": [
    "from sklearn.ensemble import RandomForestClassifier\n",
    "rf = RandomForestClassifier(n_estimators=200)\n",
    "rf = rf.fit(X_train, y_train)\n",
    "rf.score(X_test, y_test)"
   ]
  },
  {
   "cell_type": "code",
   "execution_count": 64,
   "metadata": {},
   "outputs": [
    {
     "data": {
      "text/plain": [
       "RandomForestClassifier(bootstrap=True, ccp_alpha=0.0, class_weight=None,\n",
       "                       criterion='gini', max_depth=None, max_features='auto',\n",
       "                       max_leaf_nodes=None, max_samples=None,\n",
       "                       min_impurity_decrease=0.0, min_impurity_split=None,\n",
       "                       min_samples_leaf=1, min_samples_split=2,\n",
       "                       min_weight_fraction_leaf=0.0, n_estimators=200,\n",
       "                       n_jobs=None, oob_score=False, random_state=None,\n",
       "                       verbose=0, warm_start=False)"
      ]
     },
     "execution_count": 64,
     "metadata": {},
     "output_type": "execute_result"
    }
   ],
   "source": [
    "rf"
   ]
  },
  {
   "cell_type": "code",
   "execution_count": 65,
   "metadata": {},
   "outputs": [
    {
     "data": {
      "text/plain": [
       "[(0.2693040904322883, 'squareFootage'),\n",
       " (0.2629504299010671, 'lotSize'),\n",
       " (0.17738684913622985, 'yearBuilt'),\n",
       " (0.12297877658892266, 'rooms'),\n",
       " (0.10031056500304189, 'bathrooms'),\n",
       " (0.06706928893845025, 'bedrooms')]"
      ]
     },
     "execution_count": 65,
     "metadata": {},
     "output_type": "execute_result"
    }
   ],
   "source": [
    "sorted(zip(rf.feature_importances_, feature_names), reverse=True)"
   ]
  },
  {
   "cell_type": "markdown",
   "metadata": {},
   "source": [
    "### KNN Analysis"
   ]
  },
  {
   "cell_type": "code",
   "execution_count": 66,
   "metadata": {},
   "outputs": [],
   "source": [
    "X_scaler = StandardScaler().fit(X_train)"
   ]
  },
  {
   "cell_type": "code",
   "execution_count": 67,
   "metadata": {},
   "outputs": [],
   "source": [
    "X_train_scaled = X_scaler.transform(X_train)\n",
    "X_test_scaled = X_scaler.transform(X_test)"
   ]
  },
  {
   "cell_type": "code",
   "execution_count": 68,
   "metadata": {},
   "outputs": [
    {
     "name": "stdout",
     "output_type": "stream",
     "text": [
      "k: 1, Train/Test Score: 0.940/0.000\n",
      "k: 3, Train/Test Score: 0.331/0.000\n",
      "k: 5, Train/Test Score: 0.175/0.000\n",
      "k: 7, Train/Test Score: 0.124/0.000\n",
      "k: 9, Train/Test Score: 0.089/0.000\n",
      "k: 11, Train/Test Score: 0.063/0.000\n",
      "k: 13, Train/Test Score: 0.053/0.000\n",
      "k: 15, Train/Test Score: 0.049/0.000\n",
      "k: 17, Train/Test Score: 0.039/0.000\n",
      "k: 19, Train/Test Score: 0.036/0.000\n"
     ]
    },
    {
     "data": {
      "image/png": "[encoded data removed]",
      "text/plain": [
       "<Figure size 432x288 with 1 Axes>"
      ]
     },
     "metadata": {
      "needs_background": "light"
     },
     "output_type": "display_data"
    }
   ],
   "source": [
    "train_scores = []\n",
    "test_scores = []\n",
    "for k in range(1, 20, 2):\n",
    "    knn = KNeighborsClassifier(n_neighbors=k)\n",
    "    knn.fit(X_train_scaled, y_train)\n",
    "    train_score = knn.score(X_train_scaled, y_train)\n",
    "    test_score = knn.score(X_test_scaled, y_test)\n",
    "    train_scores.append(train_score)\n",
    "    test_scores.append(test_score)\n",
    "    print(f\"k: {k}, Train/Test Score: {train_score:.3f}/{test_score:.3f}\")\n",
    "    \n",
    "    \n",
    "plt.plot(range(1, 20, 2), train_scores, marker='o')\n",
    "plt.plot(range(1, 20, 2), test_scores, marker=\"x\")\n",
    "plt.xlabel(\"k neighbors\")\n",
    "plt.ylabel(\"Testing accuracy Score\")\n",
    "plt.show()"
   ]
  },
  {
   "cell_type": "code",
   "execution_count": 69,
   "metadata": {},
   "outputs": [
    {
     "name": "stdout",
     "output_type": "stream",
     "text": [
      "k=13 Test Acc: 0.000\n"
     ]
    }
   ],
   "source": [
    "knn = KNeighborsClassifier(n_neighbors=10)\n",
    "knn.fit(X_train_scaled, y_train)\n",
    "print('k=13 Test Acc: %.3f' % knn.score(X_test_scaled, y_test))"
   ]
  },
  {
   "cell_type": "code",
   "execution_count": null,
   "metadata": {},
   "outputs": [],
   "source": []
  }
 ],
 "metadata": {
  "kernelspec": {
   "display_name": "Python 3",
   "language": "python",
   "name": "python3"
  },
  "language_info": {
   "codemirror_mode": {
    "name": "ipython",
    "version": 3
   },
   "file_extension": ".py",
   "mimetype": "text/x-python",
   "name": "python",
   "nbconvert_exporter": "python",
   "pygments_lexer": "ipython3",
   "version": "3.7.6"
  }
 },
 "nbformat": 4,
 "nbformat_minor": 4
}
